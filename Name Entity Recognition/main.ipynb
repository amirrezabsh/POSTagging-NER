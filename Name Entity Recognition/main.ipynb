{
 "cells": [
  {
   "cell_type": "markdown",
   "id": "5478b02d",
   "metadata": {},
   "source": [
    "### Install Dependencies"
   ]
  },
  {
   "cell_type": "code",
   "execution_count": 15,
   "id": "3160f4d8",
   "metadata": {},
   "outputs": [
    {
     "name": "stdout",
     "output_type": "stream",
     "text": [
      "Requirement already satisfied: spacy in d:\\msc\\third semester\\natural language processing\\homeworks\\hw2\\code\\.venv\\lib\\site-packages (3.8.7)\n",
      "Requirement already satisfied: spacy-legacy<3.1.0,>=3.0.11 in d:\\msc\\third semester\\natural language processing\\homeworks\\hw2\\code\\.venv\\lib\\site-packages (from spacy) (3.0.12)\n",
      "Requirement already satisfied: spacy-loggers<2.0.0,>=1.0.0 in d:\\msc\\third semester\\natural language processing\\homeworks\\hw2\\code\\.venv\\lib\\site-packages (from spacy) (1.0.5)\n",
      "Requirement already satisfied: murmurhash<1.1.0,>=0.28.0 in d:\\msc\\third semester\\natural language processing\\homeworks\\hw2\\code\\.venv\\lib\\site-packages (from spacy) (1.0.13)\n",
      "Requirement already satisfied: cymem<2.1.0,>=2.0.2 in d:\\msc\\third semester\\natural language processing\\homeworks\\hw2\\code\\.venv\\lib\\site-packages (from spacy) (2.0.11)\n",
      "Requirement already satisfied: preshed<3.1.0,>=3.0.2 in d:\\msc\\third semester\\natural language processing\\homeworks\\hw2\\code\\.venv\\lib\\site-packages (from spacy) (3.0.10)\n",
      "Requirement already satisfied: thinc<8.4.0,>=8.3.4 in d:\\msc\\third semester\\natural language processing\\homeworks\\hw2\\code\\.venv\\lib\\site-packages (from spacy) (8.3.6)\n",
      "Requirement already satisfied: wasabi<1.2.0,>=0.9.1 in d:\\msc\\third semester\\natural language processing\\homeworks\\hw2\\code\\.venv\\lib\\site-packages (from spacy) (1.1.3)\n",
      "Requirement already satisfied: srsly<3.0.0,>=2.4.3 in d:\\msc\\third semester\\natural language processing\\homeworks\\hw2\\code\\.venv\\lib\\site-packages (from spacy) (2.5.1)\n",
      "Requirement already satisfied: catalogue<2.1.0,>=2.0.6 in d:\\msc\\third semester\\natural language processing\\homeworks\\hw2\\code\\.venv\\lib\\site-packages (from spacy) (2.0.10)\n",
      "Requirement already satisfied: weasel<0.5.0,>=0.1.0 in d:\\msc\\third semester\\natural language processing\\homeworks\\hw2\\code\\.venv\\lib\\site-packages (from spacy) (0.4.1)\n",
      "Requirement already satisfied: typer<1.0.0,>=0.3.0 in d:\\msc\\third semester\\natural language processing\\homeworks\\hw2\\code\\.venv\\lib\\site-packages (from spacy) (0.16.0)\n",
      "Requirement already satisfied: tqdm<5.0.0,>=4.38.0 in d:\\msc\\third semester\\natural language processing\\homeworks\\hw2\\code\\.venv\\lib\\site-packages (from spacy) (4.67.1)\n",
      "Requirement already satisfied: numpy>=1.19.0 in d:\\msc\\third semester\\natural language processing\\homeworks\\hw2\\code\\.venv\\lib\\site-packages (from spacy) (2.2.6)\n",
      "Requirement already satisfied: requests<3.0.0,>=2.13.0 in d:\\msc\\third semester\\natural language processing\\homeworks\\hw2\\code\\.venv\\lib\\site-packages (from spacy) (2.32.3)\n",
      "Requirement already satisfied: pydantic!=1.8,!=1.8.1,<3.0.0,>=1.7.4 in d:\\msc\\third semester\\natural language processing\\homeworks\\hw2\\code\\.venv\\lib\\site-packages (from spacy) (2.11.5)\n",
      "Requirement already satisfied: jinja2 in d:\\msc\\third semester\\natural language processing\\homeworks\\hw2\\code\\.venv\\lib\\site-packages (from spacy) (3.1.6)\n",
      "Requirement already satisfied: setuptools in d:\\msc\\third semester\\natural language processing\\homeworks\\hw2\\code\\.venv\\lib\\site-packages (from spacy) (80.9.0)\n",
      "Requirement already satisfied: packaging>=20.0 in d:\\msc\\third semester\\natural language processing\\homeworks\\hw2\\code\\.venv\\lib\\site-packages (from spacy) (25.0)\n",
      "Requirement already satisfied: langcodes<4.0.0,>=3.2.0 in d:\\msc\\third semester\\natural language processing\\homeworks\\hw2\\code\\.venv\\lib\\site-packages (from spacy) (3.5.0)\n",
      "Requirement already satisfied: language-data>=1.2 in d:\\msc\\third semester\\natural language processing\\homeworks\\hw2\\code\\.venv\\lib\\site-packages (from langcodes<4.0.0,>=3.2.0->spacy) (1.3.0)\n",
      "Requirement already satisfied: annotated-types>=0.6.0 in d:\\msc\\third semester\\natural language processing\\homeworks\\hw2\\code\\.venv\\lib\\site-packages (from pydantic!=1.8,!=1.8.1,<3.0.0,>=1.7.4->spacy) (0.7.0)\n",
      "Requirement already satisfied: pydantic-core==2.33.2 in d:\\msc\\third semester\\natural language processing\\homeworks\\hw2\\code\\.venv\\lib\\site-packages (from pydantic!=1.8,!=1.8.1,<3.0.0,>=1.7.4->spacy) (2.33.2)\n",
      "Requirement already satisfied: typing-extensions>=4.12.2 in d:\\msc\\third semester\\natural language processing\\homeworks\\hw2\\code\\.venv\\lib\\site-packages (from pydantic!=1.8,!=1.8.1,<3.0.0,>=1.7.4->spacy) (4.13.2)\n",
      "Requirement already satisfied: typing-inspection>=0.4.0 in d:\\msc\\third semester\\natural language processing\\homeworks\\hw2\\code\\.venv\\lib\\site-packages (from pydantic!=1.8,!=1.8.1,<3.0.0,>=1.7.4->spacy) (0.4.1)\n",
      "Requirement already satisfied: charset-normalizer<4,>=2 in d:\\msc\\third semester\\natural language processing\\homeworks\\hw2\\code\\.venv\\lib\\site-packages (from requests<3.0.0,>=2.13.0->spacy) (3.4.2)\n",
      "Requirement already satisfied: idna<4,>=2.5 in d:\\msc\\third semester\\natural language processing\\homeworks\\hw2\\code\\.venv\\lib\\site-packages (from requests<3.0.0,>=2.13.0->spacy) (3.10)\n",
      "Requirement already satisfied: urllib3<3,>=1.21.1 in d:\\msc\\third semester\\natural language processing\\homeworks\\hw2\\code\\.venv\\lib\\site-packages (from requests<3.0.0,>=2.13.0->spacy) (2.4.0)\n",
      "Requirement already satisfied: certifi>=2017.4.17 in d:\\msc\\third semester\\natural language processing\\homeworks\\hw2\\code\\.venv\\lib\\site-packages (from requests<3.0.0,>=2.13.0->spacy) (2025.4.26)\n",
      "Requirement already satisfied: blis<1.4.0,>=1.3.0 in d:\\msc\\third semester\\natural language processing\\homeworks\\hw2\\code\\.venv\\lib\\site-packages (from thinc<8.4.0,>=8.3.4->spacy) (1.3.0)\n",
      "Requirement already satisfied: confection<1.0.0,>=0.0.1 in d:\\msc\\third semester\\natural language processing\\homeworks\\hw2\\code\\.venv\\lib\\site-packages (from thinc<8.4.0,>=8.3.4->spacy) (0.1.5)\n",
      "Requirement already satisfied: colorama in d:\\msc\\third semester\\natural language processing\\homeworks\\hw2\\code\\.venv\\lib\\site-packages (from tqdm<5.0.0,>=4.38.0->spacy) (0.4.6)\n",
      "Requirement already satisfied: click>=8.0.0 in d:\\msc\\third semester\\natural language processing\\homeworks\\hw2\\code\\.venv\\lib\\site-packages (from typer<1.0.0,>=0.3.0->spacy) (8.2.1)\n",
      "Requirement already satisfied: shellingham>=1.3.0 in d:\\msc\\third semester\\natural language processing\\homeworks\\hw2\\code\\.venv\\lib\\site-packages (from typer<1.0.0,>=0.3.0->spacy) (1.5.4)\n",
      "Requirement already satisfied: rich>=10.11.0 in d:\\msc\\third semester\\natural language processing\\homeworks\\hw2\\code\\.venv\\lib\\site-packages (from typer<1.0.0,>=0.3.0->spacy) (14.0.0)\n",
      "Requirement already satisfied: cloudpathlib<1.0.0,>=0.7.0 in d:\\msc\\third semester\\natural language processing\\homeworks\\hw2\\code\\.venv\\lib\\site-packages (from weasel<0.5.0,>=0.1.0->spacy) (0.21.1)\n",
      "Requirement already satisfied: smart-open<8.0.0,>=5.2.1 in d:\\msc\\third semester\\natural language processing\\homeworks\\hw2\\code\\.venv\\lib\\site-packages (from weasel<0.5.0,>=0.1.0->spacy) (7.1.0)\n",
      "Requirement already satisfied: wrapt in d:\\msc\\third semester\\natural language processing\\homeworks\\hw2\\code\\.venv\\lib\\site-packages (from smart-open<8.0.0,>=5.2.1->weasel<0.5.0,>=0.1.0->spacy) (1.17.2)\n",
      "Requirement already satisfied: marisa-trie>=1.1.0 in d:\\msc\\third semester\\natural language processing\\homeworks\\hw2\\code\\.venv\\lib\\site-packages (from language-data>=1.2->langcodes<4.0.0,>=3.2.0->spacy) (1.2.1)\n",
      "Requirement already satisfied: markdown-it-py>=2.2.0 in d:\\msc\\third semester\\natural language processing\\homeworks\\hw2\\code\\.venv\\lib\\site-packages (from rich>=10.11.0->typer<1.0.0,>=0.3.0->spacy) (3.0.0)\n",
      "Requirement already satisfied: pygments<3.0.0,>=2.13.0 in d:\\msc\\third semester\\natural language processing\\homeworks\\hw2\\code\\.venv\\lib\\site-packages (from rich>=10.11.0->typer<1.0.0,>=0.3.0->spacy) (2.19.1)\n",
      "Requirement already satisfied: mdurl~=0.1 in d:\\msc\\third semester\\natural language processing\\homeworks\\hw2\\code\\.venv\\lib\\site-packages (from markdown-it-py>=2.2.0->rich>=10.11.0->typer<1.0.0,>=0.3.0->spacy) (0.1.2)\n",
      "Requirement already satisfied: MarkupSafe>=2.0 in d:\\msc\\third semester\\natural language processing\\homeworks\\hw2\\code\\.venv\\lib\\site-packages (from jinja2->spacy) (3.0.2)\n",
      "Note: you may need to restart the kernel to use updated packages.\n",
      "Requirement already satisfied: pandas in d:\\msc\\third semester\\natural language processing\\homeworks\\hw2\\code\\.venv\\lib\\site-packages (2.2.3)\n",
      "Requirement already satisfied: numpy>=1.26.0 in d:\\msc\\third semester\\natural language processing\\homeworks\\hw2\\code\\.venv\\lib\\site-packages (from pandas) (2.2.6)\n",
      "Requirement already satisfied: python-dateutil>=2.8.2 in d:\\msc\\third semester\\natural language processing\\homeworks\\hw2\\code\\.venv\\lib\\site-packages (from pandas) (2.9.0.post0)\n",
      "Requirement already satisfied: pytz>=2020.1 in d:\\msc\\third semester\\natural language processing\\homeworks\\hw2\\code\\.venv\\lib\\site-packages (from pandas) (2025.2)\n",
      "Requirement already satisfied: tzdata>=2022.7 in d:\\msc\\third semester\\natural language processing\\homeworks\\hw2\\code\\.venv\\lib\\site-packages (from pandas) (2025.2)\n",
      "Requirement already satisfied: six>=1.5 in d:\\msc\\third semester\\natural language processing\\homeworks\\hw2\\code\\.venv\\lib\\site-packages (from python-dateutil>=2.8.2->pandas) (1.17.0)\n",
      "Note: you may need to restart the kernel to use updated packages.\n",
      "Requirement already satisfied: scikit-learn in d:\\msc\\third semester\\natural language processing\\homeworks\\hw2\\code\\.venv\\lib\\site-packages (1.6.1)\n",
      "Requirement already satisfied: numpy>=1.19.5 in d:\\msc\\third semester\\natural language processing\\homeworks\\hw2\\code\\.venv\\lib\\site-packages (from scikit-learn) (2.2.6)\n",
      "Requirement already satisfied: scipy>=1.6.0 in d:\\msc\\third semester\\natural language processing\\homeworks\\hw2\\code\\.venv\\lib\\site-packages (from scikit-learn) (1.15.3)\n",
      "Requirement already satisfied: joblib>=1.2.0 in d:\\msc\\third semester\\natural language processing\\homeworks\\hw2\\code\\.venv\\lib\\site-packages (from scikit-learn) (1.5.1)\n",
      "Requirement already satisfied: threadpoolctl>=3.1.0 in d:\\msc\\third semester\\natural language processing\\homeworks\\hw2\\code\\.venv\\lib\\site-packages (from scikit-learn) (3.6.0)\n",
      "Note: you may need to restart the kernel to use updated packages.\n",
      "Requirement already satisfied: tabulate in d:\\msc\\third semester\\natural language processing\\homeworks\\hw2\\code\\.venv\\lib\\site-packages (0.9.0)\n",
      "Note: you may need to restart the kernel to use updated packages.\n",
      "Requirement already satisfied: matplotlib in d:\\msc\\third semester\\natural language processing\\homeworks\\hw2\\code\\.venv\\lib\\site-packages (3.10.3)\n",
      "Requirement already satisfied: contourpy>=1.0.1 in d:\\msc\\third semester\\natural language processing\\homeworks\\hw2\\code\\.venv\\lib\\site-packages (from matplotlib) (1.3.2)\n",
      "Requirement already satisfied: cycler>=0.10 in d:\\msc\\third semester\\natural language processing\\homeworks\\hw2\\code\\.venv\\lib\\site-packages (from matplotlib) (0.12.1)\n",
      "Requirement already satisfied: fonttools>=4.22.0 in d:\\msc\\third semester\\natural language processing\\homeworks\\hw2\\code\\.venv\\lib\\site-packages (from matplotlib) (4.58.1)\n",
      "Requirement already satisfied: kiwisolver>=1.3.1 in d:\\msc\\third semester\\natural language processing\\homeworks\\hw2\\code\\.venv\\lib\\site-packages (from matplotlib) (1.4.8)\n",
      "Requirement already satisfied: numpy>=1.23 in d:\\msc\\third semester\\natural language processing\\homeworks\\hw2\\code\\.venv\\lib\\site-packages (from matplotlib) (2.2.6)\n",
      "Requirement already satisfied: packaging>=20.0 in d:\\msc\\third semester\\natural language processing\\homeworks\\hw2\\code\\.venv\\lib\\site-packages (from matplotlib) (25.0)\n",
      "Requirement already satisfied: pillow>=8 in d:\\msc\\third semester\\natural language processing\\homeworks\\hw2\\code\\.venv\\lib\\site-packages (from matplotlib) (11.2.1)\n",
      "Requirement already satisfied: pyparsing>=2.3.1 in d:\\msc\\third semester\\natural language processing\\homeworks\\hw2\\code\\.venv\\lib\\site-packages (from matplotlib) (3.2.3)\n",
      "Requirement already satisfied: python-dateutil>=2.7 in d:\\msc\\third semester\\natural language processing\\homeworks\\hw2\\code\\.venv\\lib\\site-packages (from matplotlib) (2.9.0.post0)\n",
      "Requirement already satisfied: six>=1.5 in d:\\msc\\third semester\\natural language processing\\homeworks\\hw2\\code\\.venv\\lib\\site-packages (from python-dateutil>=2.7->matplotlib) (1.17.0)\n",
      "Note: you may need to restart the kernel to use updated packages.\n"
     ]
    }
   ],
   "source": [
    "%pip install spacy\n",
    "%pip install pandas\n",
    "%pip install scikit-learn\n",
    "%pip install tabulate\n",
    "%pip install matplotlib"
   ]
  },
  {
   "cell_type": "markdown",
   "id": "78e8fbeb",
   "metadata": {},
   "source": [
    "### Import Libraries"
   ]
  },
  {
   "cell_type": "code",
   "execution_count": 16,
   "id": "62d4c183",
   "metadata": {},
   "outputs": [],
   "source": [
    "import pandas as pd\n",
    "from sklearn.model_selection import train_test_split\n",
    "import spacy\n",
    "from spacy.util import filter_spans\n",
    "import random\n",
    "from spacy.training.example import Example\n",
    "from collections import defaultdict\n",
    "from tabulate import tabulate\n",
    "import matplotlib.pyplot as plt"
   ]
  },
  {
   "cell_type": "markdown",
   "id": "911548af",
   "metadata": {},
   "source": [
    "### Load Data"
   ]
  },
  {
   "cell_type": "code",
   "execution_count": 17,
   "id": "560f4088",
   "metadata": {},
   "outputs": [
    {
     "name": "stderr",
     "output_type": "stream",
     "text": [
      "<>:1: SyntaxWarning: invalid escape sequence '\\E'\n",
      "<>:1: SyntaxWarning: invalid escape sequence '\\E'\n",
      "C:\\Users\\NoteBook\\AppData\\Local\\Temp\\ipykernel_21020\\785819667.py:1: SyntaxWarning: invalid escape sequence '\\E'\n",
      "  df_ner = pd.read_json('datasets\\Entity Recognition in Resumes.json', lines=True)\n"
     ]
    },
    {
     "name": "stdout",
     "output_type": "stream",
     "text": [
      "                                             content  \\\n",
      "0  Abhishek Jha\\nApplication Development Associat...   \n",
      "1  Afreen Jamadar\\nActive member of IIIT Committe...   \n",
      "2  Akhil Yadav Polemaina\\nHyderabad, Telangana - ...   \n",
      "3  Alok Khandai\\nOperational Analyst (SQL DBA) En...   \n",
      "4  Ananya Chavan\\nlecturer - oracle tutorials\\n\\n...   \n",
      "\n",
      "                                          annotation  extras  \n",
      "0  [{'label': ['Skills'], 'points': [{'start': 12...     NaN  \n",
      "1  [{'label': ['Email Address'], 'points': [{'sta...     NaN  \n",
      "2  [{'label': ['Skills'], 'points': [{'start': 37...     NaN  \n",
      "3  [{'label': ['Skills'], 'points': [{'start': 80...     NaN  \n",
      "4  [{'label': ['Degree'], 'points': [{'start': 20...     NaN  \n"
     ]
    },
    {
     "data": {
      "text/html": [
       "<div>\n",
       "<style scoped>\n",
       "    .dataframe tbody tr th:only-of-type {\n",
       "        vertical-align: middle;\n",
       "    }\n",
       "\n",
       "    .dataframe tbody tr th {\n",
       "        vertical-align: top;\n",
       "    }\n",
       "\n",
       "    .dataframe thead th {\n",
       "        text-align: right;\n",
       "    }\n",
       "</style>\n",
       "<table border=\"1\" class=\"dataframe\">\n",
       "  <thead>\n",
       "    <tr style=\"text-align: right;\">\n",
       "      <th></th>\n",
       "      <th>content</th>\n",
       "      <th>annotation</th>\n",
       "    </tr>\n",
       "  </thead>\n",
       "  <tbody>\n",
       "    <tr>\n",
       "      <th>0</th>\n",
       "      <td>Abhishek Jha\\nApplication Development Associat...</td>\n",
       "      <td>[{'label': ['Skills'], 'points': [{'start': 12...</td>\n",
       "    </tr>\n",
       "    <tr>\n",
       "      <th>1</th>\n",
       "      <td>Afreen Jamadar\\nActive member of IIIT Committe...</td>\n",
       "      <td>[{'label': ['Email Address'], 'points': [{'sta...</td>\n",
       "    </tr>\n",
       "    <tr>\n",
       "      <th>2</th>\n",
       "      <td>Akhil Yadav Polemaina\\nHyderabad, Telangana - ...</td>\n",
       "      <td>[{'label': ['Skills'], 'points': [{'start': 37...</td>\n",
       "    </tr>\n",
       "    <tr>\n",
       "      <th>3</th>\n",
       "      <td>Alok Khandai\\nOperational Analyst (SQL DBA) En...</td>\n",
       "      <td>[{'label': ['Skills'], 'points': [{'start': 80...</td>\n",
       "    </tr>\n",
       "    <tr>\n",
       "      <th>4</th>\n",
       "      <td>Ananya Chavan\\nlecturer - oracle tutorials\\n\\n...</td>\n",
       "      <td>[{'label': ['Degree'], 'points': [{'start': 20...</td>\n",
       "    </tr>\n",
       "  </tbody>\n",
       "</table>\n",
       "</div>"
      ],
      "text/plain": [
       "                                             content  \\\n",
       "0  Abhishek Jha\\nApplication Development Associat...   \n",
       "1  Afreen Jamadar\\nActive member of IIIT Committe...   \n",
       "2  Akhil Yadav Polemaina\\nHyderabad, Telangana - ...   \n",
       "3  Alok Khandai\\nOperational Analyst (SQL DBA) En...   \n",
       "4  Ananya Chavan\\nlecturer - oracle tutorials\\n\\n...   \n",
       "\n",
       "                                          annotation  \n",
       "0  [{'label': ['Skills'], 'points': [{'start': 12...  \n",
       "1  [{'label': ['Email Address'], 'points': [{'sta...  \n",
       "2  [{'label': ['Skills'], 'points': [{'start': 37...  \n",
       "3  [{'label': ['Skills'], 'points': [{'start': 80...  \n",
       "4  [{'label': ['Degree'], 'points': [{'start': 20...  "
      ]
     },
     "execution_count": 17,
     "metadata": {},
     "output_type": "execute_result"
    }
   ],
   "source": [
    "df_ner = pd.read_json('datasets\\Entity Recognition in Resumes.json', lines=True)\n",
    "print(df_ner.head())\n",
    "df_ner.drop(columns=['extras'], inplace=True)\n",
    "df_ner.head()"
   ]
  },
  {
   "cell_type": "markdown",
   "id": "6020b8d7",
   "metadata": {},
   "source": [
    "### Data Prep"
   ]
  },
  {
   "cell_type": "code",
   "execution_count": 18,
   "id": "3cc446c7",
   "metadata": {},
   "outputs": [
    {
     "data": {
      "text/html": [
       "<div>\n",
       "<style scoped>\n",
       "    .dataframe tbody tr th:only-of-type {\n",
       "        vertical-align: middle;\n",
       "    }\n",
       "\n",
       "    .dataframe tbody tr th {\n",
       "        vertical-align: top;\n",
       "    }\n",
       "\n",
       "    .dataframe thead th {\n",
       "        text-align: right;\n",
       "    }\n",
       "</style>\n",
       "<table border=\"1\" class=\"dataframe\">\n",
       "  <thead>\n",
       "    <tr style=\"text-align: right;\">\n",
       "      <th></th>\n",
       "      <th>content</th>\n",
       "      <th>annotation</th>\n",
       "    </tr>\n",
       "  </thead>\n",
       "  <tbody>\n",
       "    <tr>\n",
       "      <th>0</th>\n",
       "      <td>Abhishek Jha Application Development Associate...</td>\n",
       "      <td>[{'label': ['Skills'], 'points': [{'start': 12...</td>\n",
       "    </tr>\n",
       "    <tr>\n",
       "      <th>1</th>\n",
       "      <td>Afreen Jamadar Active member of IIIT Committee...</td>\n",
       "      <td>[{'label': ['Email Address'], 'points': [{'sta...</td>\n",
       "    </tr>\n",
       "    <tr>\n",
       "      <th>2</th>\n",
       "      <td>Akhil Yadav Polemaina Hyderabad, Telangana - E...</td>\n",
       "      <td>[{'label': ['Skills'], 'points': [{'start': 37...</td>\n",
       "    </tr>\n",
       "    <tr>\n",
       "      <th>3</th>\n",
       "      <td>Alok Khandai Operational Analyst (SQL DBA) Eng...</td>\n",
       "      <td>[{'label': ['Skills'], 'points': [{'start': 80...</td>\n",
       "    </tr>\n",
       "    <tr>\n",
       "      <th>4</th>\n",
       "      <td>Ananya Chavan lecturer - oracle tutorials  Mum...</td>\n",
       "      <td>[{'label': ['Degree'], 'points': [{'start': 20...</td>\n",
       "    </tr>\n",
       "  </tbody>\n",
       "</table>\n",
       "</div>"
      ],
      "text/plain": [
       "                                             content  \\\n",
       "0  Abhishek Jha Application Development Associate...   \n",
       "1  Afreen Jamadar Active member of IIIT Committee...   \n",
       "2  Akhil Yadav Polemaina Hyderabad, Telangana - E...   \n",
       "3  Alok Khandai Operational Analyst (SQL DBA) Eng...   \n",
       "4  Ananya Chavan lecturer - oracle tutorials  Mum...   \n",
       "\n",
       "                                          annotation  \n",
       "0  [{'label': ['Skills'], 'points': [{'start': 12...  \n",
       "1  [{'label': ['Email Address'], 'points': [{'sta...  \n",
       "2  [{'label': ['Skills'], 'points': [{'start': 37...  \n",
       "3  [{'label': ['Skills'], 'points': [{'start': 80...  \n",
       "4  [{'label': ['Degree'], 'points': [{'start': 20...  "
      ]
     },
     "execution_count": 18,
     "metadata": {},
     "output_type": "execute_result"
    }
   ],
   "source": [
    "df_ner['content'] = df_ner['content'].str.replace('\\n',' ')\n",
    "df_ner.head()"
   ]
  },
  {
   "cell_type": "markdown",
   "id": "34a457dd",
   "metadata": {},
   "source": [
    "Convert to spaCy valid format"
   ]
  },
  {
   "cell_type": "code",
   "execution_count": 19,
   "id": "4e31c946",
   "metadata": {},
   "outputs": [
    {
     "data": {
      "text/plain": [
       "{'text': \"Abhishek Jha Application Development Associate - Accenture  Bengaluru, Karnataka - Email me on Indeed: indeed.com/r/Abhishek-Jha/10e7a8cb732bc43a  • To work for an organization which provides me the opportunity to improve my skills and knowledge for my individual and company's growth in best possible ways.  Willing to relocate to: Bangalore, Karnataka  WORK EXPERIENCE  Application Development Associate  Accenture -  November 2017 to Present  Role: Currently working on Chat-bot. Developing Backend Oracle PeopleSoft Queries for the Bot which will be triggered based on given input. Also, Training the bot for different possible utterances (Both positive and negative), which will be given as input by the user.  EDUCATION  B.E in Information science and engineering  B.v.b college of engineering and technology -  Hubli, Karnataka  August 2013 to June 2017  12th in Mathematics  Woodbine modern school  April 2011 to March 2013  10th  Kendriya Vidyalaya  April 2001 to March 2011  SKILLS  C (Less than 1 year), Database (Less than 1 year), Database Management (Less than 1 year), Database Management System (Less than 1 year), Java (Less than 1 year)  ADDITIONAL INFORMATION  Technical Skills  https://www.indeed.com/r/Abhishek-Jha/10e7a8cb732bc43a?isid=rex-download&ikw=download-top&co=IN   • Programming language: C, C++, Java • Oracle PeopleSoft • Internet Of Things • Machine Learning • Database Management System • Computer Networks • Operating System worked on: Linux, Windows, Mac  Non - Technical Skills  • Honest and Hard-Working • Tolerant and Flexible to Different Situations • Polite and Calm • Team-Player\",\n",
       " 'entities': [(1295, 1621, 'SKILLS'),\n",
       "  (993, 1153, 'SKILLS'),\n",
       "  (939, 956, 'COLLEGE NAME'),\n",
       "  (883, 904, 'COLLEGE NAME'),\n",
       "  (771, 813, 'COLLEGE NAME'),\n",
       "  (727, 769, 'DESIGNATION'),\n",
       "  (372, 404, 'DESIGNATION'),\n",
       "  (95, 145, 'EMAIL ADDRESS'),\n",
       "  (60, 68, 'LOCATION'),\n",
       "  (13, 45, 'DESIGNATION'),\n",
       "  (0, 11, 'NAME')]}"
      ]
     },
     "execution_count": 19,
     "metadata": {},
     "output_type": "execute_result"
    }
   ],
   "source": [
    "# Define the entity classes and initialize the data dictionary\n",
    "data = {'classes': [\"COLLEGE NAME\", \"LOCATION\", \"DESIGNATION\",\n",
    "                    \"EMAIL ADDRESS\", \"NAME\", \"SKILLS\"], 'annotations': []}\n",
    "\n",
    "# Iterate over each row in the DataFrame to extract text and entity annotations\n",
    "for _, row in df_ner.iterrows():\n",
    "    temp_dict = {}\n",
    "    temp_dict['text'] = row['content']  # The text content of the resume\n",
    "    temp_dict['entities'] = []          # List to hold entity tuples for this text\n",
    "    \n",
    "    # Iterate over each annotation in the row\n",
    "    for annotation in row['annotation']:\n",
    "        if len(annotation['label']) != 0:  # Check if there is a label\n",
    "            label = annotation['label'][0].upper()  # Get the label and convert to uppercase\n",
    "            if label in data['classes']:            # Only keep labels that are in our classes\n",
    "                for point in annotation['points']:  # There may be multiple points per annotation\n",
    "                    start = point['start']          # Start character index of the entity\n",
    "                    end = point['end']              # End character index of the entity\n",
    "                    temp_dict['entities'].append((start, end, label))  # Add entity tuple\n",
    "    data['annotations'].append(temp_dict)           # Add this example to the annotations list\n",
    "\n",
    "# Display the first annotation example to verify the format\n",
    "data['annotations'][0]"
   ]
  },
  {
   "cell_type": "markdown",
   "id": "e2138d96",
   "metadata": {},
   "source": [
    "Split into training and test datasets"
   ]
  },
  {
   "cell_type": "code",
   "execution_count": 20,
   "id": "e06bdd6a",
   "metadata": {},
   "outputs": [
    {
     "name": "stdout",
     "output_type": "stream",
     "text": [
      "Train size: 176\n",
      "Test size: 44\n"
     ]
    }
   ],
   "source": [
    "\n",
    "# Split annotations into train and test sets (80% train, 20% test)\n",
    "train_annotations, test_annotations = train_test_split(\n",
    "    data['annotations'], test_size=0.2, random_state=42\n",
    ")\n",
    "\n",
    "# Create separate dicts for train and test\n",
    "train_data = {'classes': data['classes'], 'annotations': train_annotations}\n",
    "test_data = {'classes': data['classes'], 'annotations': test_annotations}\n",
    "\n",
    "print(f\"Train size: {len(train_data['annotations'])}\")\n",
    "print(f\"Test size: {len(test_data['annotations'])}\")\n"
   ]
  },
  {
   "cell_type": "markdown",
   "id": "8d2bc6de",
   "metadata": {},
   "source": [
    "Convert to list of Examples"
   ]
  },
  {
   "cell_type": "code",
   "execution_count": 21,
   "id": "01942ab8",
   "metadata": {},
   "outputs": [],
   "source": [
    "# Create a blank English spaCy model (only tokenizer, no pre-trained pipeline)\n",
    "nlp = spacy.blank(\"en\")\n",
    "\n",
    "# Function to convert data into a list of spaCy Doc objects for training\n",
    "def convert_to_doc(data):\n",
    "    docs_list = []  # List to store Doc objects\n",
    "    \n",
    "    # Loop through each annotated example in the data\n",
    "    for example in data['annotations']:\n",
    "        text = example['text']\n",
    "        entities = example['entities']\n",
    "        \n",
    "        # Create a spaCy Doc object from the text\n",
    "        doc = nlp.make_doc(text)\n",
    "        ents = []\n",
    "        \n",
    "        # Loop through all entity annotations for this example\n",
    "        for start, end, label in entities:\n",
    "            # Create a span for each entity using character offsets and label\n",
    "            span = doc.char_span(start, end, label=label, alignment_mode=\"contract\")\n",
    "            if span is not None:\n",
    "                ents.append(span)\n",
    "            # If span is None, the entity annotation is skipped (misaligned indices)\n",
    "        \n",
    "        # Remove overlapping or invalid spans\n",
    "        filtered_ents = filter_spans(ents)\n",
    "        # Assign the filtered entities to the doc\n",
    "        doc.ents = filtered_ents\n",
    "        \n",
    "        # Add the doc to the list\n",
    "        docs_list.append(doc)\n",
    "         \n",
    "    return docs_list\n",
    "\n",
    "# Convert the training and test data to lists of Doc objects\n",
    "train_docs = convert_to_doc(train_data)\n",
    "test_docs = convert_to_doc(test_data)\n",
    "\n",
    "# Create Example objects for training (required by spaCy training API)\n",
    "train_examples = []\n",
    "for doc in train_docs:\n",
    "    train_examples.append(Example.from_dict(doc, {\"entities\": [(ent.start_char, ent.end_char, ent.label_) for ent in doc.ents]}))\n",
    "    \n",
    "    \n",
    "test_examples = []\n",
    "for doc in test_docs:\n",
    "    test_examples.append(Example.from_dict(doc, {\"entities\": [(ent.start_char, ent.end_char, ent.label_) for ent in doc.ents]}))\n",
    "    "
   ]
  },
  {
   "cell_type": "markdown",
   "id": "eab0fc91",
   "metadata": {},
   "source": [
    "### Train model"
   ]
  },
  {
   "cell_type": "code",
   "execution_count": 22,
   "id": "1c439fda",
   "metadata": {},
   "outputs": [
    {
     "name": "stdout",
     "output_type": "stream",
     "text": [
      "Iteration 1, Losses: 54603.08203125\n",
      "Iteration 2, Losses: 5223.263671875\n",
      "Iteration 3, Losses: 4586.7763671875\n",
      "Iteration 4, Losses: 4244.72314453125\n",
      "Iteration 5, Losses: 3976.155517578125\n",
      "Iteration 6, Losses: 3768.96435546875\n",
      "Iteration 7, Losses: 3472.74658203125\n",
      "Iteration 8, Losses: 3363.915283203125\n",
      "Iteration 9, Losses: 3188.637939453125\n",
      "Iteration 10, Losses: 3025.69384765625\n",
      "Iteration 11, Losses: 2872.331787109375\n",
      "Iteration 12, Losses: 2698.292236328125\n",
      "Iteration 13, Losses: 2673.555419921875\n",
      "Iteration 14, Losses: 2585.668701171875\n",
      "Iteration 15, Losses: 2452.24951171875\n",
      "Iteration 16, Losses: 2331.705078125\n",
      "Iteration 17, Losses: 2272.363525390625\n",
      "Iteration 18, Losses: 2214.2421875\n",
      "Iteration 19, Losses: 2075.1962890625\n",
      "Iteration 20, Losses: 2211.884521484375\n",
      "Iteration 21, Losses: 2035.1881103515625\n",
      "Iteration 22, Losses: 2024.2647705078125\n",
      "Iteration 23, Losses: 1994.63232421875\n",
      "Iteration 24, Losses: 1932.1033935546875\n",
      "Iteration 25, Losses: 1960.9527587890625\n",
      "Iteration 26, Losses: 1912.72607421875\n",
      "Iteration 27, Losses: 1813.97216796875\n",
      "Iteration 28, Losses: 1734.5157470703125\n",
      "Iteration 29, Losses: 1727.619140625\n",
      "Iteration 30, Losses: 1795.3232421875\n",
      "Iteration 31, Losses: 1666.9364013671875\n",
      "Iteration 32, Losses: 1697.7109375\n",
      "Iteration 33, Losses: 1675.8245849609375\n",
      "Iteration 34, Losses: 1594.2470703125\n",
      "Iteration 35, Losses: 1608.9801025390625\n",
      "Iteration 36, Losses: 1576.375732421875\n",
      "Iteration 37, Losses: 1514.0050048828125\n",
      "Iteration 38, Losses: 1544.970458984375\n",
      "Iteration 39, Losses: 1495.53662109375\n",
      "Iteration 40, Losses: 1425.9862060546875\n",
      "Iteration 41, Losses: 1350.9156494140625\n",
      "Iteration 42, Losses: 1435.5701904296875\n",
      "Iteration 43, Losses: 1293.9932861328125\n",
      "Iteration 44, Losses: 1328.880126953125\n"
     ]
    },
    {
     "ename": "MemoryError",
     "evalue": "Unable to allocate 2.90 MiB for an array with shape (7925, 96) and data type float32",
     "output_type": "error",
     "traceback": [
      "\u001b[31m---------------------------------------------------------------------------\u001b[39m",
      "\u001b[31mMemoryError\u001b[39m                               Traceback (most recent call last)",
      "\u001b[36mCell\u001b[39m\u001b[36m \u001b[39m\u001b[32mIn[22]\u001b[39m\u001b[32m, line 24\u001b[39m\n\u001b[32m     22\u001b[39m losses = {}\n\u001b[32m     23\u001b[39m \u001b[38;5;28;01mfor\u001b[39;00m batch \u001b[38;5;129;01min\u001b[39;00m spacy.util.minibatch(train_examples, size=\u001b[32m8\u001b[39m):\n\u001b[32m---> \u001b[39m\u001b[32m24\u001b[39m     \u001b[43mnlp\u001b[49m\u001b[43m.\u001b[49m\u001b[43mupdate\u001b[49m\u001b[43m(\u001b[49m\u001b[43mbatch\u001b[49m\u001b[43m,\u001b[49m\u001b[43m \u001b[49m\u001b[43mdrop\u001b[49m\u001b[43m=\u001b[49m\u001b[32;43m0.5\u001b[39;49m\u001b[43m,\u001b[49m\u001b[43m \u001b[49m\u001b[43mlosses\u001b[49m\u001b[43m=\u001b[49m\u001b[43mlosses\u001b[49m\u001b[43m)\u001b[49m\n\u001b[32m     25\u001b[39m \u001b[38;5;28mprint\u001b[39m(\u001b[33mf\u001b[39m\u001b[33m\"\u001b[39m\u001b[33mIteration \u001b[39m\u001b[38;5;132;01m{\u001b[39;00mitn+\u001b[32m1\u001b[39m\u001b[38;5;132;01m}\u001b[39;00m\u001b[33m, Losses: \u001b[39m\u001b[38;5;132;01m{\u001b[39;00mlosses[\u001b[33m'\u001b[39m\u001b[33mner\u001b[39m\u001b[33m'\u001b[39m]\u001b[38;5;132;01m}\u001b[39;00m\u001b[33m\"\u001b[39m)\n\u001b[32m     26\u001b[39m loss_history.append(losses[\u001b[33m'\u001b[39m\u001b[33mner\u001b[39m\u001b[33m'\u001b[39m])\n",
      "\u001b[36mFile \u001b[39m\u001b[32md:\\MSc\\Third Semester\\Natural Language Processing\\Homeworks\\HW2\\code\\.venv\\Lib\\site-packages\\spacy\\language.py:1197\u001b[39m, in \u001b[36mLanguage.update\u001b[39m\u001b[34m(self, examples, _, drop, sgd, losses, component_cfg, exclude, annotates)\u001b[39m\n\u001b[32m   1194\u001b[39m \u001b[38;5;28;01mfor\u001b[39;00m name, proc \u001b[38;5;129;01min\u001b[39;00m \u001b[38;5;28mself\u001b[39m.pipeline:\n\u001b[32m   1195\u001b[39m     \u001b[38;5;66;03m# ignore statements are used here because mypy ignores hasattr\u001b[39;00m\n\u001b[32m   1196\u001b[39m     \u001b[38;5;28;01mif\u001b[39;00m name \u001b[38;5;129;01mnot\u001b[39;00m \u001b[38;5;129;01min\u001b[39;00m exclude \u001b[38;5;129;01mand\u001b[39;00m \u001b[38;5;28mhasattr\u001b[39m(proc, \u001b[33m\"\u001b[39m\u001b[33mupdate\u001b[39m\u001b[33m\"\u001b[39m):\n\u001b[32m-> \u001b[39m\u001b[32m1197\u001b[39m         \u001b[43mproc\u001b[49m\u001b[43m.\u001b[49m\u001b[43mupdate\u001b[49m\u001b[43m(\u001b[49m\u001b[43mexamples\u001b[49m\u001b[43m,\u001b[49m\u001b[43m \u001b[49m\u001b[43msgd\u001b[49m\u001b[43m=\u001b[49m\u001b[38;5;28;43;01mNone\u001b[39;49;00m\u001b[43m,\u001b[49m\u001b[43m \u001b[49m\u001b[43mlosses\u001b[49m\u001b[43m=\u001b[49m\u001b[43mlosses\u001b[49m\u001b[43m,\u001b[49m\u001b[43m \u001b[49m\u001b[43m*\u001b[49m\u001b[43m*\u001b[49m\u001b[43mcomponent_cfg\u001b[49m\u001b[43m[\u001b[49m\u001b[43mname\u001b[49m\u001b[43m]\u001b[49m\u001b[43m)\u001b[49m  \u001b[38;5;66;03m# type: ignore\u001b[39;00m\n\u001b[32m   1198\u001b[39m     \u001b[38;5;28;01mif\u001b[39;00m sgd \u001b[38;5;129;01mnot\u001b[39;00m \u001b[38;5;129;01min\u001b[39;00m (\u001b[38;5;28;01mNone\u001b[39;00m, \u001b[38;5;28;01mFalse\u001b[39;00m):\n\u001b[32m   1199\u001b[39m         \u001b[38;5;28;01mif\u001b[39;00m (\n\u001b[32m   1200\u001b[39m             name \u001b[38;5;129;01mnot\u001b[39;00m \u001b[38;5;129;01min\u001b[39;00m exclude\n\u001b[32m   1201\u001b[39m             \u001b[38;5;129;01mand\u001b[39;00m \u001b[38;5;28misinstance\u001b[39m(proc, ty.TrainableComponent)\n\u001b[32m   1202\u001b[39m             \u001b[38;5;129;01mand\u001b[39;00m proc.is_trainable\n\u001b[32m   1203\u001b[39m             \u001b[38;5;129;01mand\u001b[39;00m proc.model \u001b[38;5;129;01mnot\u001b[39;00m \u001b[38;5;129;01min\u001b[39;00m (\u001b[38;5;28;01mTrue\u001b[39;00m, \u001b[38;5;28;01mFalse\u001b[39;00m, \u001b[38;5;28;01mNone\u001b[39;00m)\n\u001b[32m   1204\u001b[39m         ):\n",
      "\u001b[36mFile \u001b[39m\u001b[32md:\\MSc\\Third Semester\\Natural Language Processing\\Homeworks\\HW2\\code\\.venv\\Lib\\site-packages\\spacy\\pipeline\\transition_parser.pyx:439\u001b[39m, in \u001b[36mspacy.pipeline.transition_parser.Parser.update\u001b[39m\u001b[34m()\u001b[39m\n",
      "\u001b[36mFile \u001b[39m\u001b[32md:\\MSc\\Third Semester\\Natural Language Processing\\Homeworks\\HW2\\code\\.venv\\Lib\\site-packages\\spacy\\ml\\parser_model.pyx:334\u001b[39m, in \u001b[36mspacy.ml.parser_model.ParserStepModel.finish_steps\u001b[39m\u001b[34m()\u001b[39m\n",
      "\u001b[36mFile \u001b[39m\u001b[32md:\\MSc\\Third Semester\\Natural Language Processing\\Homeworks\\HW2\\code\\.venv\\Lib\\site-packages\\thinc\\layers\\chain.py:60\u001b[39m, in \u001b[36mforward.<locals>.backprop\u001b[39m\u001b[34m(dY)\u001b[39m\n\u001b[32m     58\u001b[39m \u001b[38;5;28;01mdef\u001b[39;00m\u001b[38;5;250m \u001b[39m\u001b[34mbackprop\u001b[39m(dY: OutT) -> InT:\n\u001b[32m     59\u001b[39m     \u001b[38;5;28;01mfor\u001b[39;00m callback \u001b[38;5;129;01min\u001b[39;00m \u001b[38;5;28mreversed\u001b[39m(callbacks):\n\u001b[32m---> \u001b[39m\u001b[32m60\u001b[39m         dX = \u001b[43mcallback\u001b[49m\u001b[43m(\u001b[49m\u001b[43mdY\u001b[49m\u001b[43m)\u001b[49m\n\u001b[32m     61\u001b[39m         dY = dX\n\u001b[32m     62\u001b[39m     \u001b[38;5;28;01mreturn\u001b[39;00m dX\n",
      "\u001b[36mFile \u001b[39m\u001b[32md:\\MSc\\Third Semester\\Natural Language Processing\\Homeworks\\HW2\\code\\.venv\\Lib\\site-packages\\thinc\\layers\\chain.py:60\u001b[39m, in \u001b[36mforward.<locals>.backprop\u001b[39m\u001b[34m(dY)\u001b[39m\n\u001b[32m     58\u001b[39m \u001b[38;5;28;01mdef\u001b[39;00m\u001b[38;5;250m \u001b[39m\u001b[34mbackprop\u001b[39m(dY: OutT) -> InT:\n\u001b[32m     59\u001b[39m     \u001b[38;5;28;01mfor\u001b[39;00m callback \u001b[38;5;129;01min\u001b[39;00m \u001b[38;5;28mreversed\u001b[39m(callbacks):\n\u001b[32m---> \u001b[39m\u001b[32m60\u001b[39m         dX = \u001b[43mcallback\u001b[49m\u001b[43m(\u001b[49m\u001b[43mdY\u001b[49m\u001b[43m)\u001b[49m\n\u001b[32m     61\u001b[39m         dY = dX\n\u001b[32m     62\u001b[39m     \u001b[38;5;28;01mreturn\u001b[39;00m dX\n",
      "\u001b[36mFile \u001b[39m\u001b[32md:\\MSc\\Third Semester\\Natural Language Processing\\Homeworks\\HW2\\code\\.venv\\Lib\\site-packages\\thinc\\layers\\with_array.py:81\u001b[39m, in \u001b[36m_list_forward.<locals>.backprop\u001b[39m\u001b[34m(dYs)\u001b[39m\n\u001b[32m     79\u001b[39m \u001b[38;5;28;01mdef\u001b[39;00m\u001b[38;5;250m \u001b[39m\u001b[34mbackprop\u001b[39m(dYs: ListXd) -> ListXd:\n\u001b[32m     80\u001b[39m     dYf = layer.ops.flatten(dYs, pad=pad)\n\u001b[32m---> \u001b[39m\u001b[32m81\u001b[39m     dXf = \u001b[43mget_dXf\u001b[49m\u001b[43m(\u001b[49m\u001b[43mdYf\u001b[49m\u001b[43m)\u001b[49m\n\u001b[32m     82\u001b[39m     \u001b[38;5;28;01mreturn\u001b[39;00m layer.ops.unflatten(dXf, lengths, pad=pad)\n",
      "\u001b[36mFile \u001b[39m\u001b[32md:\\MSc\\Third Semester\\Natural Language Processing\\Homeworks\\HW2\\code\\.venv\\Lib\\site-packages\\thinc\\layers\\chain.py:60\u001b[39m, in \u001b[36mforward.<locals>.backprop\u001b[39m\u001b[34m(dY)\u001b[39m\n\u001b[32m     58\u001b[39m \u001b[38;5;28;01mdef\u001b[39;00m\u001b[38;5;250m \u001b[39m\u001b[34mbackprop\u001b[39m(dY: OutT) -> InT:\n\u001b[32m     59\u001b[39m     \u001b[38;5;28;01mfor\u001b[39;00m callback \u001b[38;5;129;01min\u001b[39;00m \u001b[38;5;28mreversed\u001b[39m(callbacks):\n\u001b[32m---> \u001b[39m\u001b[32m60\u001b[39m         dX = \u001b[43mcallback\u001b[49m\u001b[43m(\u001b[49m\u001b[43mdY\u001b[49m\u001b[43m)\u001b[49m\n\u001b[32m     61\u001b[39m         dY = dX\n\u001b[32m     62\u001b[39m     \u001b[38;5;28;01mreturn\u001b[39;00m dX\n",
      "\u001b[36mFile \u001b[39m\u001b[32md:\\MSc\\Third Semester\\Natural Language Processing\\Homeworks\\HW2\\code\\.venv\\Lib\\site-packages\\thinc\\layers\\residual.py:30\u001b[39m, in \u001b[36mforward.<locals>.backprop\u001b[39m\u001b[34m(d_output)\u001b[39m\n\u001b[32m     29\u001b[39m \u001b[38;5;28;01mdef\u001b[39;00m\u001b[38;5;250m \u001b[39m\u001b[34mbackprop\u001b[39m(d_output: InT) -> InT:\n\u001b[32m---> \u001b[39m\u001b[32m30\u001b[39m     dX = \u001b[43mbackprop_layer\u001b[49m\u001b[43m(\u001b[49m\u001b[43md_output\u001b[49m\u001b[43m)\u001b[49m\n\u001b[32m     31\u001b[39m     \u001b[38;5;28;01mif\u001b[39;00m \u001b[38;5;28misinstance\u001b[39m(d_output, \u001b[38;5;28mlist\u001b[39m):\n\u001b[32m     32\u001b[39m         \u001b[38;5;28;01mreturn\u001b[39;00m [d_output[i] + dX[i] \u001b[38;5;28;01mfor\u001b[39;00m i \u001b[38;5;129;01min\u001b[39;00m \u001b[38;5;28mrange\u001b[39m(\u001b[38;5;28mlen\u001b[39m(d_output))]\n",
      "\u001b[36mFile \u001b[39m\u001b[32md:\\MSc\\Third Semester\\Natural Language Processing\\Homeworks\\HW2\\code\\.venv\\Lib\\site-packages\\thinc\\layers\\chain.py:60\u001b[39m, in \u001b[36mforward.<locals>.backprop\u001b[39m\u001b[34m(dY)\u001b[39m\n\u001b[32m     58\u001b[39m \u001b[38;5;28;01mdef\u001b[39;00m\u001b[38;5;250m \u001b[39m\u001b[34mbackprop\u001b[39m(dY: OutT) -> InT:\n\u001b[32m     59\u001b[39m     \u001b[38;5;28;01mfor\u001b[39;00m callback \u001b[38;5;129;01min\u001b[39;00m \u001b[38;5;28mreversed\u001b[39m(callbacks):\n\u001b[32m---> \u001b[39m\u001b[32m60\u001b[39m         dX = \u001b[43mcallback\u001b[49m\u001b[43m(\u001b[49m\u001b[43mdY\u001b[49m\u001b[43m)\u001b[49m\n\u001b[32m     61\u001b[39m         dY = dX\n\u001b[32m     62\u001b[39m     \u001b[38;5;28;01mreturn\u001b[39;00m dX\n",
      "\u001b[36mFile \u001b[39m\u001b[32md:\\MSc\\Third Semester\\Natural Language Processing\\Homeworks\\HW2\\code\\.venv\\Lib\\site-packages\\thinc\\layers\\chain.py:60\u001b[39m, in \u001b[36mforward.<locals>.backprop\u001b[39m\u001b[34m(dY)\u001b[39m\n\u001b[32m     58\u001b[39m \u001b[38;5;28;01mdef\u001b[39;00m\u001b[38;5;250m \u001b[39m\u001b[34mbackprop\u001b[39m(dY: OutT) -> InT:\n\u001b[32m     59\u001b[39m     \u001b[38;5;28;01mfor\u001b[39;00m callback \u001b[38;5;129;01min\u001b[39;00m \u001b[38;5;28mreversed\u001b[39m(callbacks):\n\u001b[32m---> \u001b[39m\u001b[32m60\u001b[39m         dX = \u001b[43mcallback\u001b[49m\u001b[43m(\u001b[49m\u001b[43mdY\u001b[49m\u001b[43m)\u001b[49m\n\u001b[32m     61\u001b[39m         dY = dX\n\u001b[32m     62\u001b[39m     \u001b[38;5;28;01mreturn\u001b[39;00m dX\n",
      "\u001b[36mFile \u001b[39m\u001b[32md:\\MSc\\Third Semester\\Natural Language Processing\\Homeworks\\HW2\\code\\.venv\\Lib\\site-packages\\thinc\\layers\\dropout.py:45\u001b[39m, in \u001b[36m_dropout_array.<locals>.backprop\u001b[39m\u001b[34m(dY)\u001b[39m\n\u001b[32m     44\u001b[39m \u001b[38;5;28;01mdef\u001b[39;00m\u001b[38;5;250m \u001b[39m\u001b[34mbackprop\u001b[39m(dY: ArrayXd) -> ArrayXd:\n\u001b[32m---> \u001b[39m\u001b[32m45\u001b[39m     \u001b[38;5;28;01mreturn\u001b[39;00m \u001b[43mdY\u001b[49m\u001b[43m \u001b[49m\u001b[43m*\u001b[49m\u001b[43m \u001b[49m\u001b[43mmask\u001b[49m\n",
      "\u001b[31mMemoryError\u001b[39m: Unable to allocate 2.90 MiB for an array with shape (7925, 96) and data type float32"
     ]
    }
   ],
   "source": [
    "# Load a blank English model\n",
    "nlp = spacy.blank(\"en\")\n",
    "\n",
    "# Add the NER component to the pipeline\n",
    "if \"ner\" not in nlp.pipe_names:\n",
    "    ner = nlp.add_pipe(\"ner\")\n",
    "else:\n",
    "    ner = nlp.get_pipe(\"ner\")\n",
    "\n",
    "# Add labels to the NER component\n",
    "for label in train_data['classes']:\n",
    "    ner.add_label(label)\n",
    "\n",
    "loss_history = []\n",
    "\n",
    "# Disable other pipeline components during training\n",
    "other_pipes = [pipe for pipe in nlp.pipe_names if pipe != \"ner\"]\n",
    "with nlp.disable_pipes(*other_pipes):\n",
    "    optimizer = nlp.begin_training()\n",
    "    for itn in range(300):  # Number of training iterations\n",
    "        random.shuffle(train_examples)\n",
    "        losses = {}\n",
    "        for batch in spacy.util.minibatch(train_examples, size=8):\n",
    "            nlp.update(batch, drop=0.5, losses=losses)\n",
    "        print(f\"Iteration {itn+1}, Losses: {losses['ner']}\")\n",
    "        loss_history.append(losses['ner'])\n",
    "\n",
    "# Save the trained model to disk\n",
    "nlp.to_disk(\"ner_model_spacy\")\n"
   ]
  },
  {
   "cell_type": "code",
   "execution_count": null,
   "id": "73e3db03",
   "metadata": {},
   "outputs": [
    {
     "data": {
      "image/png": "[encoded data removed]",
      "text/plain": [
       "<Figure size 1000x500 with 1 Axes>"
      ]
     },
     "metadata": {},
     "output_type": "display_data"
    }
   ],
   "source": [
    "# Plotting the loss curve\n",
    "plt.figure(figsize=(10, 5))\n",
    "plt.plot(loss_history, marker='o', linestyle='-', color='blue')\n",
    "plt.title(\"NER Model Training Loss Over Iterations\")\n",
    "plt.xlabel(\"Iteration\")\n",
    "plt.ylabel(\"NER Loss\")\n",
    "plt.grid(True)\n",
    "plt.tight_layout()\n",
    "plt.show()"
   ]
  },
  {
   "cell_type": "markdown",
   "id": "8ad0eb21",
   "metadata": {},
   "source": [
    "### Evaluation\n",
    "Entity level"
   ]
  },
  {
   "cell_type": "code",
   "execution_count": null,
   "id": "0c455475",
   "metadata": {},
   "outputs": [
    {
     "name": "stdout",
     "output_type": "stream",
     "text": [
      "Entity-Level Evaluation:\n",
      "+---------------------+-----------+----------+-------------+\n",
      "| Recognized Entity   |   F-Score |   Recall |   Precision |\n",
      "+=====================+===========+==========+=============+\n",
      "| Name                |     1     |        1 |       1     |\n",
      "+---------------------+-----------+----------+-------------+\n",
      "| Designation         |     0.888 |        1 |       0.799 |\n",
      "+---------------------+-----------+----------+-------------+\n",
      "| Location            |     0.911 |        1 |       0.837 |\n",
      "+---------------------+-----------+----------+-------------+\n",
      "| Email Address       |     0.878 |        1 |       0.783 |\n",
      "+---------------------+-----------+----------+-------------+\n",
      "| College Name        |     0.882 |        1 |       0.789 |\n",
      "+---------------------+-----------+----------+-------------+\n",
      "| Skills              |     0.846 |        1 |       0.733 |\n",
      "+---------------------+-----------+----------+-------------+\n",
      "\n",
      "Token-Level Evaluation:\n",
      "+---------------------+-----------+----------+-------------+\n",
      "| Recognized Entity   |   F-Score |   Recall |   Precision |\n",
      "+=====================+===========+==========+=============+\n",
      "| All Tokens          |         1 |        1 |           1 |\n",
      "+---------------------+-----------+----------+-------------+\n"
     ]
    }
   ],
   "source": [
    "def print_evaluation_tables(evaluation):\n",
    "    from tabulate import tabulate\n",
    "\n",
    "    # Entity-level table\n",
    "    entity_rows = []\n",
    "    for entity, scores in evaluation[\"ents_per_type\"].items():\n",
    "        row = [\n",
    "            entity.title(),  # Capitalize like \"College Name\"\n",
    "            round(scores[\"f\"], 3),\n",
    "            round(scores[\"r\"], 3),\n",
    "            round(scores[\"p\"], 3)\n",
    "        ]\n",
    "        entity_rows.append(row)\n",
    "\n",
    "    print(\"Entity-Level Evaluation:\")\n",
    "    print(tabulate(\n",
    "        entity_rows,\n",
    "        headers=[\"Recognized Entity\", \"F-Score\", \"Recall\", \"Precision\"],\n",
    "        tablefmt=\"grid\"\n",
    "    ))\n",
    "\n",
    "    # Token-level table (just one row)\n",
    "    token_row = [[\n",
    "        \"All Tokens\",\n",
    "        round(evaluation[\"token_f\"], 3),\n",
    "        round(evaluation[\"token_r\"], 3),\n",
    "        round(evaluation[\"token_p\"], 3)\n",
    "    ]]\n",
    "\n",
    "    print(\"\\nToken-Level Evaluation:\")\n",
    "    print(tabulate(\n",
    "        token_row,\n",
    "        headers=[\"Recognized Entity\", \"F-Score\", \"Recall\", \"Precision\"],\n",
    "        tablefmt=\"grid\"\n",
    "    ))\n",
    "\n",
    "evaluation = nlp.evaluate(test_examples)\n",
    "\n",
    "# Example usage after evaluation\n",
    "print_evaluation_tables(evaluation)\n"
   ]
  },
  {
   "cell_type": "markdown",
   "id": "91762526",
   "metadata": {},
   "source": [
    "Token level"
   ]
  },
  {
   "cell_type": "code",
   "execution_count": null,
   "id": "474ba714",
   "metadata": {},
   "outputs": [],
   "source": [
    "\n",
    "def compute_token_level_metrics_per_entity(nlp, examples):\n",
    "    per_entity_counts = defaultdict(lambda: {\"TP\": 0, \"FP\": 0, \"FN\": 0})\n",
    "\n",
    "    for example in examples:\n",
    "        pred_doc = nlp(example.text)\n",
    "        gold_doc = example.reference\n",
    "\n",
    "        for pred_token, gold_token in zip(pred_doc, gold_doc):\n",
    "            pred_ent = pred_token.ent_type_\n",
    "            gold_ent = gold_token.ent_type_\n",
    "\n",
    "            if pred_ent == gold_ent and pred_ent != \"\":\n",
    "                per_entity_counts[pred_ent][\"TP\"] += 1\n",
    "            elif pred_ent != gold_ent:\n",
    "                if pred_ent != \"\":\n",
    "                    per_entity_counts[pred_ent][\"FP\"] += 1\n",
    "                if gold_ent != \"\":\n",
    "                    per_entity_counts[gold_ent][\"FN\"] += 1\n",
    "\n",
    "    # Compute precision, recall, f-score\n",
    "    result_table = []\n",
    "    for ent_type, counts in per_entity_counts.items():\n",
    "        TP = counts[\"TP\"]\n",
    "        FP = counts[\"FP\"]\n",
    "        FN = counts[\"FN\"]\n",
    "\n",
    "        precision = TP / (TP + FP) if (TP + FP) > 0 else 0.0\n",
    "        recall = TP / (TP + FN) if (TP + FN) > 0 else 0.0\n",
    "        f_score = (2 * precision * recall) / (precision + recall) if (precision + recall) > 0 else 0.0\n",
    "\n",
    "        result_table.append([ent_type.title(), round(f_score, 3), round(recall, 3), round(precision, 3)])\n",
    "\n",
    "    # Sort alphabetically by entity name\n",
    "    result_table.sort()\n",
    "\n",
    "    return result_table\n"
   ]
  },
  {
   "cell_type": "code",
   "execution_count": null,
   "id": "2669044e",
   "metadata": {},
   "outputs": [
    {
     "name": "stdout",
     "output_type": "stream",
     "text": [
      "Token-Level Evaluation per Entity:\n",
      "+---------------------+-----------+----------+-------------+\n",
      "| Recognized Entity   |   F-Score |   Recall |   Precision |\n",
      "+=====================+===========+==========+=============+\n",
      "| College Name        |     0.539 |    0.475 |       0.622 |\n",
      "+---------------------+-----------+----------+-------------+\n",
      "| Designation         |     0.48  |    0.427 |       0.547 |\n",
      "+---------------------+-----------+----------+-------------+\n",
      "| Email Address       |     0.766 |    0.788 |       0.745 |\n",
      "+---------------------+-----------+----------+-------------+\n",
      "| Location            |     0.429 |    0.321 |       0.643 |\n",
      "+---------------------+-----------+----------+-------------+\n",
      "| Name                |     0.91  |    0.871 |       0.953 |\n",
      "+---------------------+-----------+----------+-------------+\n",
      "| Skills              |     0.633 |    0.571 |       0.71  |\n",
      "+---------------------+-----------+----------+-------------+\n"
     ]
    }
   ],
   "source": [
    "# Token-level evaluation details\n",
    "token_level_table = compute_token_level_metrics_per_entity(nlp, test_examples)\n",
    "print(\"Token-Level Evaluation per Entity:\")\n",
    "print(tabulate(\n",
    "    token_level_table,\n",
    "    headers=[\"Recognized Entity\", \"F-Score\", \"Recall\", \"Precision\"],\n",
    "    tablefmt=\"grid\"\n",
    "))"
   ]
  }
 ],
 "metadata": {
  "kernelspec": {
   "display_name": ".venv",
   "language": "python",
   "name": "python3"
  },
  "language_info": {
   "codemirror_mode": {
    "name": "ipython",
    "version": 3
   },
   "file_extension": ".py",
   "mimetype": "text/x-python",
   "name": "python",
   "nbconvert_exporter": "python",
   "pygments_lexer": "ipython3",
   "version": "3.12.6"
  }
 },
 "nbformat": 4,
 "nbformat_minor": 5
}
